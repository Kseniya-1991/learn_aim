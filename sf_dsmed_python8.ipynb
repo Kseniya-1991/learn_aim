{
 "cells": [
  {
   "cell_type": "markdown",
   "id": "762cf2c0-c61d-439b-89ae-ad060cf62e4b",
   "metadata": {},
   "source": [
    "# Программирование на Python\n",
    "## Базовые приёмы работы с данными в `pandas`\n",
    "### Вспомогательные материалы\n",
    "1. Выбор данных (по строкам / колонкам / тому и другому): https://pandas.pydata.org/pandas-docs/stable/user_guide/indexing.html;\n",
    "2. Groupby + agg / apply: https://pandas.pydata.org/pandas-docs/stable/user_guide/groupby.html.\n",
    "\n",
    "### Ответы на вопросы (их нет)"
   ]
  },
  {
   "cell_type": "code",
   "execution_count": null,
   "id": "a791ef01-427b-41e3-8351-603a8efa2a8e",
   "metadata": {},
   "outputs": [],
   "source": [
    "# наш код здесь"
   ]
  },
  {
   "cell_type": "markdown",
   "id": "442b46bb-2907-46f2-863d-db7a3b1a7df8",
   "metadata": {},
   "source": [
    "### А теперь к сегодняшней теме\n",
    "Сегодня мы будем работать с данными по COVID-19 (взяты [отсюда](https://github.com/datasets/covid-19)). Датасет содержит следующие переменные:\n",
    "\n",
    "- `Date` - дата;\n",
    "- `Country/Region` - страна/регион;\n",
    "- `Province/State` - штат/провинция;\n",
    "- `Confirmed` - количество подтвержденных случаев заражения (на указанную дату);\n",
    "- `Recovered` - количество выздоровевших (на указанную дату);\n",
    "- `Deaths` - количество умерших (на указанную дату).\n",
    "\n",
    "Импортируйте и проведите первичное изучение данных (соответствующим типу каждой переменной). Исследуем данные целиком:"
   ]
  },
  {
   "cell_type": "code",
   "execution_count": null,
   "id": "6d75416a-80e3-43d4-8eea-be5b448af5d1",
   "metadata": {},
   "outputs": [],
   "source": [
    "import pandas as pd\n",
    "\n",
    "data = pd.read_csv('time-series-19-covid-combined.csv')\n",
    "data.info()"
   ]
  },
  {
   "cell_type": "code",
   "execution_count": null,
   "id": "7fca11c3-fa6d-4ebb-9b3b-c147bac9f93d",
   "metadata": {},
   "outputs": [],
   "source": [
    "#записки:\n",
    "\n",
    "#1 есть пропущенные значения: Province/State, Recovered\n",
    "#2 лучше привести названия колонок к стандартному виду (как переменные в Python)\n",
    "#3 колонка Recovered имеет нецелый тип, хотя это количество"
   ]
  },
  {
   "cell_type": "markdown",
   "id": "332a090d-47e6-4771-b7cc-2c2e82890f64",
   "metadata": {},
   "source": [
    "Исследуем каждую отдельную переменную. Существуют следующие виды переменных:\n",
    "\n",
    "![](https://slideplayer.com/slide/4457934/14/images/13/Types+of+Variables+Examples%3A+Marital+Status+Political+Party+Eye+Color.jpg)\n",
    "\n",
    "Переменную (ее распределение) следует изучать сообразно ее виду, используя соответствующую метрику. Для категориальной это частотная таблица, для числовой - меры центральной тенденции (главным образом среднее и медиана) и меры разброса (размах, стандартное отклонение)."
   ]
  },
  {
   "cell_type": "code",
   "execution_count": null,
   "id": "4d504b36-b762-42a1-998b-6009ba6e445d",
   "metadata": {},
   "outputs": [],
   "source": [
    "# наш код здесь"
   ]
  },
  {
   "cell_type": "markdown",
   "id": "0e2346c1-9d89-48d8-9be3-dd820a39a951",
   "metadata": {},
   "source": [
    "По окончании изучения составьте список действий, которые необходимо произвести с данными перед дальнейшим анализом.\n",
    "\n",
    "### Выполните предобработку данных\n",
    "1. Стандартизируйте названия переменных;\n",
    "2. Переведите переменную `Date` в тип `datetime`;\n",
    "3. \"Схлопните\" данные по провинциям в данные по стране в целом;\n",
    "4. Преобразуйте накопленное значение по стране на дату в значение прироста по стране на дату.\n",
    "\n",
    "Названия переменных (пригодится метод `rename`):"
   ]
  },
  {
   "cell_type": "code",
   "execution_count": null,
   "id": "09a8ecad-2798-4935-b294-4acd6af54c7a",
   "metadata": {},
   "outputs": [],
   "source": [
    "# наш код здесь"
   ]
  },
  {
   "cell_type": "markdown",
   "id": "71219907-6005-4987-a7ee-322f6d8696e3",
   "metadata": {},
   "source": [
    "`Date` в `datetime` (пригодится `pd.to_datetime` и [таблица](https://www.w3schools.com/python/python_datetime.asp) кодов):"
   ]
  },
  {
   "cell_type": "code",
   "execution_count": null,
   "id": "1d5df0f7-9135-4452-8c79-d9633798bfb3",
   "metadata": {},
   "outputs": [],
   "source": [
    "# наш код здесь"
   ]
  },
  {
   "cell_type": "markdown",
   "id": "123e56d0-42eb-406c-a5ad-b38172648287",
   "metadata": {},
   "source": [
    "От провинций к странам: `groupby` -> `aggregate`:"
   ]
  },
  {
   "cell_type": "code",
   "execution_count": null,
   "id": "7710b487-2aaf-42c9-b225-80c12af8eef5",
   "metadata": {},
   "outputs": [],
   "source": [
    "# наш код здесь"
   ]
  },
  {
   "cell_type": "markdown",
   "id": "fea1c009-2339-4f94-9880-e21737ded519",
   "metadata": {},
   "source": [
    "От накопленной суммы к приросту:"
   ]
  },
  {
   "cell_type": "code",
   "execution_count": null,
   "id": "4dcdf9da-a3a0-4641-8d94-bb62649a1ee6",
   "metadata": {},
   "outputs": [],
   "source": [
    "# наш код здесь"
   ]
  },
  {
   "cell_type": "markdown",
   "id": "be09cb6b-6ec1-4a67-9cd8-93e077d04229",
   "metadata": {},
   "source": [
    "#### Выполните визуализации\n",
    "Изобразите распределение всех трех показателей прироста с помощью:\n",
    "\n",
    "1. Гистограммы;\n",
    "2. Ящика с усами (boxplot);\n",
    "3. Функции распределения.\n",
    "\n",
    "На одном графике. Используйте данные, агрегированные по всему миру.\n",
    "\n",
    "Повторите то же самое для логарифмированных показателей."
   ]
  },
  {
   "cell_type": "code",
   "execution_count": null,
   "id": "71d6e7c0-9d76-4a31-b998-56b39c150a66",
   "metadata": {},
   "outputs": [],
   "source": [
    "# наш код здесь"
   ]
  }
 ],
 "metadata": {
  "colab": {
   "provenance": []
  },
  "kernelspec": {
   "display_name": "Python 3 (ipykernel)",
   "language": "python",
   "name": "python3"
  },
  "language_info": {
   "codemirror_mode": {
    "name": "ipython",
    "version": 3
   },
   "file_extension": ".py",
   "mimetype": "text/x-python",
   "name": "python",
   "nbconvert_exporter": "python",
   "pygments_lexer": "ipython3",
   "version": "3.11.6"
  }
 },
 "nbformat": 4,
 "nbformat_minor": 5
}
