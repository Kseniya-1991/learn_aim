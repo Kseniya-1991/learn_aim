{
 "cells": [
  {
   "cell_type": "markdown",
   "id": "762cf2c0-c61d-439b-89ae-ad060cf62e4b",
   "metadata": {},
   "source": [
    "# Программирование на Python\n",
    "## Библиотека NumPy\n",
    "### Ответы на вопросы\n",
    "#### Про `Counter` и `defaultdict`\n",
    "Загрузите файл `StudentsPerformance.csv` используя модуль `csv`. Преобразуйте его в следующий формат:\n",
    "\n",
    "```python\n",
    "{\n",
    "    'gender': ['female', 'female', 'female', 'male', ...],\n",
    "    'race/ethnicity': [...],\n",
    "    ...\n",
    "}\n",
    "```\n",
    "\n",
    "Также используйте модуль `collections`."
   ]
  },
  {
   "cell_type": "code",
   "execution_count": 1,
   "id": "8904f033-4155-4cd8-b81d-40e305958aaf",
   "metadata": {},
   "outputs": [],
   "source": [
    "import csv\n",
    "from collections import defaultdict, Counter\n",
    "\n",
    "path = 'StudentsPerformance.csv'\n",
    "data = defaultdict(list)\n",
    "\n",
    "with open(path, mode='r', newline='') as file:  # file = open(path, mode='r', newline='')\n",
    "    # after executing this code file will be closed\n",
    "    csvfile = csv.DictReader(file, delimiter=',')\n",
    "    \n",
    "    for line_dict in csvfile:\n",
    "        for key, value in line_dict.items():\n",
    "            data[key].append(value)"
   ]
  },
  {
   "cell_type": "markdown",
   "id": "85ea2ff1-2ef2-4881-9c08-472bd20836b6",
   "metadata": {},
   "source": [
    "Без `defaultdict` пришлось бы инициализировать новые ключи с значениями в виде пустыз списков \"вручную\":"
   ]
  },
  {
   "cell_type": "code",
   "execution_count": 2,
   "id": "d648e7b6-7416-497a-b2c6-6f12f0af72eb",
   "metadata": {},
   "outputs": [],
   "source": [
    "path = 'StudentsPerformance.csv'\n",
    "data = {}\n",
    "\n",
    "with open(path, 'r') as file:\n",
    "    csvfile = csv.DictReader(file, delimiter=',')\n",
    "    \n",
    "    for line_dict in csvfile:\n",
    "        for key, value in line_dict.items():\n",
    "            if key not in data:\n",
    "                data[key] = [value]\n",
    "            else:\n",
    "                data[key].append(value)"
   ]
  },
  {
   "cell_type": "markdown",
   "id": "fc60cd28-5a7d-42c8-8720-34c27ac9a407",
   "metadata": {},
   "source": [
    "`Counter` поможет посчитать частоту каждого уникального значения в переменной `parental level of education`:"
   ]
  },
  {
   "cell_type": "code",
   "execution_count": 3,
   "id": "060fd9ad-b927-49be-83d5-dec42df0bc4b",
   "metadata": {},
   "outputs": [
    {
     "data": {
      "text/plain": [
       "Counter({'some college': 226,\n",
       "         \"associate's degree\": 222,\n",
       "         'high school': 196,\n",
       "         'some high school': 179,\n",
       "         \"bachelor's degree\": 118,\n",
       "         \"master's degree\": 59})"
      ]
     },
     "execution_count": 3,
     "metadata": {},
     "output_type": "execute_result"
    }
   ],
   "source": [
    "Counter(data['parental level of education'])"
   ]
  },
  {
   "cell_type": "markdown",
   "id": "52ccd24c-3f44-4745-b6c2-2ee1f43fdfb8",
   "metadata": {},
   "source": [
    "#### Делаем flat list из списка любой вложенности\n",
    "**Вариант 1.** NumPy"
   ]
  },
  {
   "cell_type": "code",
   "execution_count": 5,
   "id": "5d22428e-e39e-436d-a204-db3c0eceb64a",
   "metadata": {},
   "outputs": [],
   "source": [
    "import numpy as np\n",
    "\n",
    "nested_list = [[1, 2, 3], [4, 5, 6]]  # получится только с массивом \"правильной формы\"\n",
    "nested_list2 = [[[1], 2, 3], [4, 5, 6]]"
   ]
  },
  {
   "cell_type": "code",
   "execution_count": 10,
   "id": "a27a8077-916c-40f1-93c9-5acb75c0d353",
   "metadata": {},
   "outputs": [
    {
     "data": {
      "text/plain": [
       "array([1, 2, 3, 4, 5, 6])"
      ]
     },
     "execution_count": 10,
     "metadata": {},
     "output_type": "execute_result"
    }
   ],
   "source": [
    "np.array(nested_list).flatten()"
   ]
  },
  {
   "cell_type": "code",
   "execution_count": 11,
   "id": "8fd621ef-b0b1-48c4-913c-0fa7fbed5f7a",
   "metadata": {},
   "outputs": [
    {
     "ename": "ValueError",
     "evalue": "setting an array element with a sequence. The requested array has an inhomogeneous shape after 2 dimensions. The detected shape was (2, 3) + inhomogeneous part.",
     "output_type": "error",
     "traceback": [
      "\u001b[0;31m---------------------------------------------------------------------------\u001b[0m",
      "\u001b[0;31mValueError\u001b[0m                                Traceback (most recent call last)",
      "Cell \u001b[0;32mIn[11], line 1\u001b[0m\n\u001b[0;32m----> 1\u001b[0m \u001b[43mnp\u001b[49m\u001b[38;5;241;43m.\u001b[39;49m\u001b[43marray\u001b[49m\u001b[43m(\u001b[49m\u001b[43mnested_list2\u001b[49m\u001b[43m)\u001b[49m\u001b[38;5;241m.\u001b[39mflatten()\n",
      "\u001b[0;31mValueError\u001b[0m: setting an array element with a sequence. The requested array has an inhomogeneous shape after 2 dimensions. The detected shape was (2, 3) + inhomogeneous part."
     ]
    }
   ],
   "source": [
    "np.array(nested_list2).flatten()"
   ]
  },
  {
   "cell_type": "markdown",
   "id": "e7ca0dd7-1a94-4b3a-b51f-42e11d2477a3",
   "metadata": {},
   "source": [
    "**\\[только для степени вложенности 2\\] Вариант 2.1.** List comprehension"
   ]
  },
  {
   "cell_type": "code",
   "execution_count": 12,
   "id": "96bcb715-fba1-4738-aa37-068eb0a902e2",
   "metadata": {},
   "outputs": [],
   "source": [
    "nested_list = [[1, 2, 3], [4, 5, 6]]"
   ]
  },
  {
   "cell_type": "code",
   "execution_count": 13,
   "id": "56e9539c-9fa7-47e8-a41a-8da2f9c802b5",
   "metadata": {},
   "outputs": [
    {
     "data": {
      "text/plain": [
       "[1, 2, 3, 4, 5, 6]"
      ]
     },
     "execution_count": 13,
     "metadata": {},
     "output_type": "execute_result"
    }
   ],
   "source": [
    "[value for lst in nested_list for value in lst]"
   ]
  },
  {
   "cell_type": "markdown",
   "id": "7525125f-ee50-493c-84e4-ad5093d30281",
   "metadata": {},
   "source": [
    "**\\[только для степени вложенности 2\\] Вариант 2.2.** `sum`"
   ]
  },
  {
   "cell_type": "code",
   "execution_count": 14,
   "id": "e0cdc897-773e-4ef7-ae18-dc859990da59",
   "metadata": {},
   "outputs": [
    {
     "data": {
      "text/plain": [
       "[1, 2, 3, 4, 5, 6]"
      ]
     },
     "execution_count": 14,
     "metadata": {},
     "output_type": "execute_result"
    }
   ],
   "source": [
    "nested_list = [[1, 2, 3], [4, 5, 6]]\n",
    "\n",
    "sum(nested_list, [])"
   ]
  },
  {
   "cell_type": "markdown",
   "id": "2ab4860b-83e1-47e1-ae45-c4bbf8d56941",
   "metadata": {},
   "source": [
    "**Вариант 3.** Рекурсивно"
   ]
  },
  {
   "cell_type": "code",
   "execution_count": 22,
   "id": "aca6bdda-02ce-4bbc-a72b-096ed435092e",
   "metadata": {},
   "outputs": [],
   "source": [
    "def flatten(nested: list) -> list:\n",
    "    global flat\n",
    "    \n",
    "    for elem in nested:\n",
    "        if not isinstance(elem, list):  # if not hasattr(elem, '__iter__')\n",
    "            flat.append(elem)\n",
    "        else:\n",
    "            flatten(elem)"
   ]
  },
  {
   "cell_type": "code",
   "execution_count": 26,
   "id": "8307679c-8614-4fe5-8d91-9cea8535502c",
   "metadata": {},
   "outputs": [],
   "source": [
    "nested_list = [[1, 2, 3], [4, 5, 6]]\n",
    "very_nested_list = [[1, [[[[[2]]]]], 3], [4, 5, 6]]"
   ]
  },
  {
   "cell_type": "code",
   "execution_count": 27,
   "id": "876f3075-f4b6-48f0-84ab-ec7dfb59714a",
   "metadata": {},
   "outputs": [],
   "source": [
    "flat = []\n",
    "\n",
    "flatten(nested_list)"
   ]
  },
  {
   "cell_type": "code",
   "execution_count": 28,
   "id": "06db8243-bb20-485d-99a3-d0d49ad0091c",
   "metadata": {},
   "outputs": [
    {
     "data": {
      "text/plain": [
       "[1, 2, 3, 4, 5, 6]"
      ]
     },
     "execution_count": 28,
     "metadata": {},
     "output_type": "execute_result"
    }
   ],
   "source": [
    "flat"
   ]
  },
  {
   "cell_type": "code",
   "execution_count": 29,
   "id": "839e14ea-8449-48ac-b56b-29d88655b0fe",
   "metadata": {},
   "outputs": [],
   "source": [
    "flat = []\n",
    "\n",
    "flatten(very_nested_list)"
   ]
  },
  {
   "cell_type": "code",
   "execution_count": 30,
   "id": "dcb8bcfd-8ed4-461e-b9af-9a06723ccffd",
   "metadata": {},
   "outputs": [
    {
     "data": {
      "text/plain": [
       "[1, 2, 3, 4, 5, 6]"
      ]
     },
     "execution_count": 30,
     "metadata": {},
     "output_type": "execute_result"
    }
   ],
   "source": [
    "flat"
   ]
  },
  {
   "cell_type": "markdown",
   "id": "bde3b2b9-3bc3-4f7b-ad45-16304592edb4",
   "metadata": {},
   "source": [
    "#### `lambda` и `key`"
   ]
  },
  {
   "cell_type": "code",
   "execution_count": null,
   "id": "df4146f2-14f6-4041-95fc-373ab2ca194c",
   "metadata": {},
   "outputs": [],
   "source": [
    "# наш код здесь"
   ]
  },
  {
   "cell_type": "markdown",
   "id": "daf5f83f-5ca9-4dda-b566-0e7b67dfa9ab",
   "metadata": {},
   "source": [
    "#### `*args` и `**kwargs`\n",
    "Необходимо написать функцию `test_function`, которая:\n",
    "\n",
    "- будет принимать на вход другую функцию, аргументы к ней и предполагаемое возвращаемое значение при вызове с такими аргументами;\n",
    "- вызывать функцию с указанными аргументами;\n",
    "- сравнивать предполагаемое значение и фактическое и возвращать `True`, если они совпали, и `False` иначе."
   ]
  },
  {
   "cell_type": "code",
   "execution_count": 1,
   "id": "6dd3078d-2b86-46cc-8905-90be49d21b22",
   "metadata": {},
   "outputs": [],
   "source": [
    "def test_function(fun, value):\n",
    "    fun_result = fun()\n",
    "\n",
    "    return fun_result == value"
   ]
  },
  {
   "cell_type": "code",
   "execution_count": 2,
   "id": "44bc0fc9-30d9-4f94-87ff-72957d6a37b4",
   "metadata": {},
   "outputs": [],
   "source": [
    "def constant():\n",
    "    return 5"
   ]
  },
  {
   "cell_type": "code",
   "execution_count": 3,
   "id": "70517593-f5d3-4fd6-b3e5-e51c0db3f8ad",
   "metadata": {},
   "outputs": [
    {
     "data": {
      "text/plain": [
       "True"
      ]
     },
     "execution_count": 3,
     "metadata": {},
     "output_type": "execute_result"
    }
   ],
   "source": [
    "test_function(constant, 5)"
   ]
  },
  {
   "cell_type": "markdown",
   "id": "cfd69572-4ef1-4cff-b8d5-dbc7ca42bab0",
   "metadata": {},
   "source": [
    "Схема аргументов в `test_function` типичная и продиктована порядком аргументов:\n",
    "\n",
    "```python\n",
    "def func(a, b, c=0, d=1, *args, e, f, **kwargs):\n",
    "   ...\n",
    "```\n",
    "\n",
    "См. еще [пример](https://numpy.org/doc/stable/reference/generated/numpy.apply_along_axis.html)."
   ]
  },
  {
   "cell_type": "code",
   "execution_count": 9,
   "id": "b427d3c8-a712-4ff4-8a4a-8c2f96b6b762",
   "metadata": {},
   "outputs": [],
   "source": [
    "def test_function(fun, value, *args, **kwargs):\n",
    "    fun_result = fun(*args, **kwargs)\n",
    "    \n",
    "    return fun_result == value"
   ]
  },
  {
   "cell_type": "code",
   "execution_count": 7,
   "id": "00960ac9-be34-4951-84be-2ad542b87b5c",
   "metadata": {},
   "outputs": [],
   "source": [
    "def square(n):\n",
    "   return n ** 2"
   ]
  },
  {
   "cell_type": "code",
   "execution_count": 10,
   "id": "c57aa45d-c0cd-4bf5-b723-93f05dfcf6ae",
   "metadata": {},
   "outputs": [
    {
     "data": {
      "text/plain": [
       "True"
      ]
     },
     "execution_count": 10,
     "metadata": {},
     "output_type": "execute_result"
    }
   ],
   "source": [
    "test_function(square, 36, 6)"
   ]
  },
  {
   "cell_type": "code",
   "execution_count": 11,
   "id": "dcecd4db-39e4-44b7-84dd-699308b9f24d",
   "metadata": {},
   "outputs": [],
   "source": [
    "def area(a, b):\n",
    "   return a * b"
   ]
  },
  {
   "cell_type": "code",
   "execution_count": 13,
   "id": "45c724b8-9788-4684-958e-4b0b5340dfac",
   "metadata": {},
   "outputs": [
    {
     "data": {
      "text/plain": [
       "True"
      ]
     },
     "execution_count": 13,
     "metadata": {},
     "output_type": "execute_result"
    }
   ],
   "source": [
    "test_function(area, 30, 6, 5)"
   ]
  },
  {
   "cell_type": "code",
   "execution_count": 15,
   "id": "ec1cafe6-c7ee-4856-bbda-5ece694d7526",
   "metadata": {},
   "outputs": [],
   "source": [
    "def concat_dicts(*dicts):\n",
    "    concatenated = {}\n",
    "\n",
    "    for dct in dicts:\n",
    "        concatenated.update(dct)\n",
    "    \n",
    "    return concatenated"
   ]
  },
  {
   "cell_type": "code",
   "execution_count": 16,
   "id": "ba3c5164-7426-4b74-80a1-556bcc938173",
   "metadata": {},
   "outputs": [
    {
     "data": {
      "text/plain": [
       "True"
      ]
     },
     "execution_count": 16,
     "metadata": {},
     "output_type": "execute_result"
    }
   ],
   "source": [
    "dict1 = {'a': 1}\n",
    "dict2 = {'b': 2}\n",
    "\n",
    "result = {'a': 1, 'b': 2}\n",
    "\n",
    "test_function(concat_dicts, result, dict1, dict2)"
   ]
  },
  {
   "cell_type": "markdown",
   "id": "d5cda4fe-49f4-4044-94c4-4d65f475d582",
   "metadata": {},
   "source": [
    "#### Еще немного про рекурсию\n",
    "Самое главное в рекурсии:\n",
    "\n",
    "- определить ветку, в которой мы выходим из рекурсии;\n",
    "- в остальных ветках \"продвигаться\" к тому, чтобы в один момент оказаться в упомянутой выше ветке.\n",
    "\n",
    "Напишите функцию, которая бы считала факториал целого положительного числа `n`."
   ]
  },
  {
   "cell_type": "code",
   "execution_count": null,
   "id": "e724eb0f-1a5d-412d-a464-f39315f7bb00",
   "metadata": {},
   "outputs": [],
   "source": [
    "# наш код здесь"
   ]
  },
  {
   "cell_type": "markdown",
   "id": "1e6d5ce7-c250-4004-94f1-5aca1c3df866",
   "metadata": {},
   "source": [
    "Копирование изменяемых объектов в Python не идеально:"
   ]
  },
  {
   "cell_type": "code",
   "execution_count": null,
   "id": "3fb056a6-ce22-485f-a5f7-815d58d0a8b9",
   "metadata": {},
   "outputs": [],
   "source": [
    "some_dict = {\n",
    "    'a': 1,\n",
    "    'b': {\n",
    "        'c': 0\n",
    "    }\n",
    "}"
   ]
  },
  {
   "cell_type": "code",
   "execution_count": null,
   "id": "fdde360e-0032-48bd-8151-9e5dcadbf7f3",
   "metadata": {},
   "outputs": [],
   "source": [
    "some_dict_copied = some_dict.copy()"
   ]
  },
  {
   "cell_type": "code",
   "execution_count": null,
   "id": "4b82247f-93b9-47ea-8f1d-16fa4c79348b",
   "metadata": {},
   "outputs": [],
   "source": [
    "some_dict_copied['b']['c'] = 1"
   ]
  },
  {
   "cell_type": "code",
   "execution_count": null,
   "id": "84f25ac9-2e41-4270-958f-ea9a983c5147",
   "metadata": {},
   "outputs": [],
   "source": [
    "some_dict_copied"
   ]
  },
  {
   "cell_type": "code",
   "execution_count": null,
   "id": "99e1d50e-39b1-4bc9-8c3d-c2abc55e9184",
   "metadata": {},
   "outputs": [],
   "source": [
    "some_dict"
   ]
  },
  {
   "cell_type": "markdown",
   "id": "271965c3-ae42-4172-b558-19ffa8fb4c44",
   "metadata": {},
   "source": [
    "Напишите функцию `deepcopy`, которая принимает на вход словарь любой степени вложенности и копирует его, создавая полностью новый объект. В качестве изменяемых значений по условию могут встретиться только словари."
   ]
  },
  {
   "cell_type": "code",
   "execution_count": null,
   "id": "72f6bd3d-3574-48e6-8a67-c4a19b91dbf1",
   "metadata": {},
   "outputs": [],
   "source": [
    "def deepcopy(mutable: dict) -> dict:  # from copy import deepcopy\n",
    "    mutable_copied = {}\n",
    "\n",
    "    for key, value in mutable.items():\n",
    "        if isinstance(value, dict):\n",
    "            value = deepcopy(value)\n",
    "            mutable_copied[key] = value\n",
    "        else:\n",
    "            mutable_copied[key] = value\n",
    "\n",
    "    return mutable_copied"
   ]
  },
  {
   "cell_type": "code",
   "execution_count": null,
   "id": "7d30628b-31df-43cd-8416-f1a5c239354b",
   "metadata": {},
   "outputs": [],
   "source": [
    "some_dict = {\n",
    "    'a': 1,\n",
    "    'b': {\n",
    "        'c': 0\n",
    "    }\n",
    "}"
   ]
  },
  {
   "cell_type": "code",
   "execution_count": null,
   "id": "41421330-2257-47de-b377-2d76c6be00d3",
   "metadata": {},
   "outputs": [],
   "source": [
    "some_dict_copied = deepcopy(some_dict)"
   ]
  },
  {
   "cell_type": "code",
   "execution_count": null,
   "id": "8aabb94a-baf5-48ed-8889-b67b136cc2a4",
   "metadata": {},
   "outputs": [],
   "source": [
    "some_dict_copied['b']['c'] = 1"
   ]
  },
  {
   "cell_type": "code",
   "execution_count": null,
   "id": "09e4cac7-02c7-43b2-b92e-7f9c1279aca9",
   "metadata": {},
   "outputs": [],
   "source": [
    "some_dict_copied"
   ]
  },
  {
   "cell_type": "code",
   "execution_count": null,
   "id": "a791ef01-427b-41e3-8351-603a8efa2a8e",
   "metadata": {},
   "outputs": [],
   "source": [
    "some_dict"
   ]
  },
  {
   "cell_type": "markdown",
   "id": "69a17138-5448-4788-a36e-8c8454073794",
   "metadata": {},
   "source": [
    "### Наконец-то NumPy\n",
    "Вам дан массив данных, представленный в виде списка списков. Каждый вложенный список представляет собой измерение одного параметра для разных индивидуумов. В процессе обработки данных вам часто придется сталкиваться с тем, что параметры могут иметь разную шкалу. Существуют различные способы решения данной проблемы, среди которых - т. н. стандартизация, приводящее значения к стандартному нормальному распределению (большинство значений от -3 до 3). Формула выглядит следующим образом (в данном случае `x` - каждое значение, т. е. операцию ниже необходимо выполнить с каждым значением наших данных):\n",
    "\n",
    "![standardization](https://i.ibb.co/THbWKqM/1-YSAAU-v-I8-Ol-HQz-G5-A1-Sg.png)\n",
    "\n",
    "Напишите функцию, которая выполняет эту стандартизацию для двухмерного массива. При этом должна быть предусмотрена возможность осуществить это по строкам, по колонкам и для всего массива в целом.\n",
    "\n",
    "Решите задачу в двух вариантах: 1) используя ТОЛЬКО встроенные средства Python и 2) с помощью `numpy`. Сравните эффективность двух подходов."
   ]
  },
  {
   "cell_type": "code",
   "execution_count": null,
   "id": "b142beb6-a79f-4bf2-9a68-0ba3ae5a8bc8",
   "metadata": {},
   "outputs": [],
   "source": [
    "import numpy as np\n",
    "\n",
    "# (псевдо)случайно генерируем матрицу 10 * 10000 из равномерного распределения с границами от -1000 до 1000\n",
    "simulated_data = np.random.uniform(-1000, 1000, (10, 10000))\n",
    "simulated_data_list = simulated_data.tolist()"
   ]
  },
  {
   "cell_type": "markdown",
   "id": "e846adde-f316-49b0-a3de-f54f16889f33",
   "metadata": {},
   "source": [
    "**Python**"
   ]
  },
  {
   "cell_type": "code",
   "execution_count": null,
   "id": "2404fc7b-0ac3-4785-b6c7-37fde0c4dee1",
   "metadata": {},
   "outputs": [],
   "source": [
    "# наш код здесь"
   ]
  },
  {
   "cell_type": "markdown",
   "id": "ee4becca-5a5d-47e7-a226-c06d8443b742",
   "metadata": {},
   "source": [
    "**NumPy**"
   ]
  },
  {
   "cell_type": "code",
   "execution_count": null,
   "id": "21838d17-2722-4e75-8fbe-0fe0e64e6ac3",
   "metadata": {},
   "outputs": [],
   "source": [
    "# наш код здесь"
   ]
  }
 ],
 "metadata": {
  "colab": {
   "provenance": []
  },
  "kernelspec": {
   "display_name": "Python 3 (ipykernel)",
   "language": "python",
   "name": "python3"
  },
  "language_info": {
   "codemirror_mode": {
    "name": "ipython",
    "version": 3
   },
   "file_extension": ".py",
   "mimetype": "text/x-python",
   "name": "python",
   "nbconvert_exporter": "python",
   "pygments_lexer": "ipython3",
   "version": "3.11.6"
  }
 },
 "nbformat": 4,
 "nbformat_minor": 5
}
